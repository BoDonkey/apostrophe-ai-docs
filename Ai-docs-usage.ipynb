{
 "cells": [
  {
   "cell_type": "markdown",
   "metadata": {},
   "source": [
    "# Working with the Apostrophe VectorBD\n",
    "The vector DB is currently hosted at Deep Lake - this is subject to change"
   ]
  },
  {
   "cell_type": "markdown",
   "metadata": {},
   "source": [
    "Modify dependencies for your system needs - only needed once"
   ]
  },
  {
   "cell_type": "code",
   "execution_count": null,
   "metadata": {},
   "outputs": [],
   "source": [
    "!python3 -m pip install --upgrade langchain 'deeplake[enterprise]' openai tiktoken"
   ]
  },
  {
   "cell_type": "markdown",
   "metadata": {},
   "source": [
    "Enter the API key for OpenAI and define special embeddings for OpenAI"
   ]
  },
  {
   "cell_type": "code",
   "execution_count": 6,
   "metadata": {},
   "outputs": [],
   "source": [
    "import getpass\n",
    "import os\n",
    "\n",
    "os.environ[\"OPENAI_API_KEY\"] = getpass.getpass(\"OpenAI API Key:\")\n",
    "\n",
    "from langchain.embeddings.openai import OpenAIEmbeddings\n",
    "embeddings = OpenAIEmbeddings(disallowed_special=())\n"
   ]
  },
  {
   "cell_type": "markdown",
   "metadata": {},
   "source": [
    "Point the `db` variable at the right database (subject to change)"
   ]
  },
  {
   "cell_type": "code",
   "execution_count": 7,
   "metadata": {},
   "outputs": [
    {
     "name": "stdout",
     "output_type": "stream",
     "text": [
      "Deep Lake Dataset in hub://bodonkey/apostrophe-docs-db-v2 already exists, loading from the storage\n"
     ]
    }
   ],
   "source": [
    "\n",
    "from langchain.vectorstores import DeepLake\n",
    "\n",
    "db = DeepLake(\n",
    "    dataset_path=f\"hub://bodonkey/apostrophe-docs-db-v2\",\n",
    "    read_only=True,\n",
    "    embedding=embeddings,\n",
    ")"
   ]
  },
  {
   "cell_type": "markdown",
   "metadata": {},
   "source": [
    "Modify retrieval patterns"
   ]
  },
  {
   "cell_type": "code",
   "execution_count": 8,
   "metadata": {},
   "outputs": [],
   "source": [
    "retriever = db.as_retriever()\n",
    "retriever.search_kwargs[\"distance_metric\"] = \"cos\"\n",
    "retriever.search_kwargs[\"fetch_k\"] = 100\n",
    "retriever.search_kwargs[\"maximal_marginal_relevance\"] = True\n",
    "retriever.search_kwargs[\"k\"] = 15"
   ]
  },
  {
   "cell_type": "markdown",
   "metadata": {},
   "source": [
    "Specify the langchain model interactions including additional prompt engineering"
   ]
  },
  {
   "cell_type": "code",
   "execution_count": 9,
   "metadata": {},
   "outputs": [],
   "source": [
    "from langchain.chains import ConversationalRetrievalChain\n",
    "from langchain.chat_models import ChatOpenAI\n",
    "from langchain.prompts import ChatPromptTemplate\n",
    "\n",
    "# Define the custom prompt template - here is where prompt engineering might improve answers\n",
    "custom_template = \"\"\"\n",
    "{user_input} Please provide a thorough and accurate response, specifically for ApostropheCMS version 3.x. Include code examples when possible. Add validated citations without internal '@' and with `.html` endings from the documentation site. There is no need to comment on this prompt in your answer.\n",
    "\"\"\"\n",
    "\n",
    "# Create the ChatPromptTemplate object\n",
    "prompt_template = ChatPromptTemplate.from_template(custom_template)\n",
    "\n",
    "model = ChatOpenAI(model_name=\"gpt-4-1106-preview\")  # switch to 'gpt-4' or 'gpt-3.5-turbo'\n",
    "\n",
    "qa = ConversationalRetrievalChain.from_llm(model, retriever=retriever)"
   ]
  },
  {
   "cell_type": "markdown",
   "metadata": {},
   "source": [
    "Ask questions"
   ]
  },
  {
   "cell_type": "code",
   "execution_count": 13,
   "metadata": {},
   "outputs": [
    {
     "name": "stderr",
     "output_type": "stream",
     "text": [
      "/opt/homebrew/lib/python3.11/site-packages/langchain/chains/llm.py:316: UserWarning: The predict_and_parse method is deprecated, instead pass an output parser directly to LLMChain.\n",
      "  warnings.warn(\n",
      "/opt/homebrew/lib/python3.11/site-packages/langchain/chains/llm.py:316: UserWarning: The predict_and_parse method is deprecated, instead pass an output parser directly to LLMChain.\n",
      "  warnings.warn(\n",
      "/opt/homebrew/lib/python3.11/site-packages/langchain/chains/llm.py:316: UserWarning: The predict_and_parse method is deprecated, instead pass an output parser directly to LLMChain.\n",
      "  warnings.warn(\n",
      "/opt/homebrew/lib/python3.11/site-packages/langchain/chains/llm.py:316: UserWarning: The predict_and_parse method is deprecated, instead pass an output parser directly to LLMChain.\n",
      "  warnings.warn(\n",
      "/opt/homebrew/lib/python3.11/site-packages/langchain/chains/llm.py:316: UserWarning: The predict_and_parse method is deprecated, instead pass an output parser directly to LLMChain.\n",
      "  warnings.warn(\n",
      "/opt/homebrew/lib/python3.11/site-packages/langchain/chains/llm.py:316: UserWarning: The predict_and_parse method is deprecated, instead pass an output parser directly to LLMChain.\n",
      "  warnings.warn(\n",
      "/opt/homebrew/lib/python3.11/site-packages/langchain/chains/llm.py:316: UserWarning: The predict_and_parse method is deprecated, instead pass an output parser directly to LLMChain.\n",
      "  warnings.warn(\n",
      "/opt/homebrew/lib/python3.11/site-packages/langchain/chains/llm.py:316: UserWarning: The predict_and_parse method is deprecated, instead pass an output parser directly to LLMChain.\n",
      "  warnings.warn(\n",
      "/opt/homebrew/lib/python3.11/site-packages/langchain/chains/llm.py:316: UserWarning: The predict_and_parse method is deprecated, instead pass an output parser directly to LLMChain.\n",
      "  warnings.warn(\n",
      "/opt/homebrew/lib/python3.11/site-packages/langchain/chains/llm.py:316: UserWarning: The predict_and_parse method is deprecated, instead pass an output parser directly to LLMChain.\n",
      "  warnings.warn(\n",
      "/opt/homebrew/lib/python3.11/site-packages/langchain/chains/llm.py:316: UserWarning: The predict_and_parse method is deprecated, instead pass an output parser directly to LLMChain.\n",
      "  warnings.warn(\n",
      "/opt/homebrew/lib/python3.11/site-packages/langchain/chains/llm.py:316: UserWarning: The predict_and_parse method is deprecated, instead pass an output parser directly to LLMChain.\n",
      "  warnings.warn(\n",
      "/opt/homebrew/lib/python3.11/site-packages/langchain/chains/llm.py:316: UserWarning: The predict_and_parse method is deprecated, instead pass an output parser directly to LLMChain.\n",
      "  warnings.warn(\n",
      "/opt/homebrew/lib/python3.11/site-packages/langchain/chains/llm.py:316: UserWarning: The predict_and_parse method is deprecated, instead pass an output parser directly to LLMChain.\n",
      "  warnings.warn(\n",
      "/opt/homebrew/lib/python3.11/site-packages/langchain/chains/llm.py:316: UserWarning: The predict_and_parse method is deprecated, instead pass an output parser directly to LLMChain.\n",
      "  warnings.warn(\n"
     ]
    },
    {
     "name": "stdout",
     "output_type": "stream",
     "text": [
      "## -> **Question**: How would I add a new page type to my project? \n",
      "\n",
      "Document 1:\n",
      "\n",
      "In an Apostrophe project, pages provide a way to show static content, as well as dynamic content delivered by both widgets and pieces. The `@apostrophecms/page-type` module allows for the creation of page types. The selection of these page types by a user tells Apostrophe what template to use to render the page, what content types can be added to a page by the editor through the field schema, as well as what additional dynamic content should be added. You can have as many or as few page types as needed for your site.\n",
      "----------------------------------------------------------------------------------------------------\n",
      "Document 2:\n",
      "\n",
      "```js\n",
      "// modules/default-page/index.js\n",
      "module.exports = {\n",
      "  extend: '@apostrophecms/page-type'\n",
      "};\n",
      "```\n",
      "\n",
      "```js\n",
      "// app.js\n",
      "require('apostrophe')({\n",
      "  shortName: 'my-website',\n",
      "  modules: {\n",
      "    'default-page': {}\n",
      "  }\n",
      "});\n",
      "```\n",
      "----------------------------------------------------------------------------------------------------\n",
      "Document 3:\n",
      "\n",
      "```plaintext\n",
      "Page types are created by extending the `@apostrophecms/page-type` module and can be configured using schemas. Each page type module created is assigned a page type, such as `blog-page`. This page type enables developers to establish a consistent template that matches the desired layout and functionality for that particular type of page.\n",
      "\n",
      "Out of the box, Apostrophe defines a `home-page` type for you that is \"parked\" at the top of the page tree. Other pages are typically sub-pages of the home page.\n",
      "```\n",
      "----------------------------------------------------------------------------------------------------\n",
      "Document 4:\n",
      "\n",
      "The A3 Essentials starter kit already has a `home-page` module that we will modify for our purposes, but creating a new page from scratch is easy. It is essentially a two-step process. First, you create a folder in the `modules` folder. This folder is conventionally given a suffix of `-page`. Within that folder, you need to add an `index.js` file and another folder named `views` with a `page.html` file. Second, you need to register that page so that it is available for the editor to select. This is accomplished by adding it to the `types` array of the `@apostrophecms/page` module.\n",
      "----------------------------------------------------------------------------------------------------\n",
      "Document 5:\n",
      "\n",
      "Once those template files exist, you would **add this to the `app.js` configuration** [like any other module](/guide/modules.html#setting-up-a-module). Additionally, in order for your pages to show up in the page selection dropdown, you also need to add your module to the `module/@apostrophecms/page/index.js` file. As with other pages, you add an object with the name of the module and a label into the `types` option array.\n",
      "----------------------------------------------------------------------------------------------------\n",
      "Document 6:\n",
      "\n",
      "```\n",
      "- Create an Apostrophe page type for each of the template pages that substitutes data from the schema fields into each area of the page that you want to edit.\n",
      "```\n",
      "----------------------------------------------------------------------------------------------------\n",
      "Document 7:\n",
      "\n",
      "```\n",
      "- Add the front end assets to your Apostrophe project\n",
      "- Create an Apostrophe page type for each of the template pages that substitutes data from the schema fields into each area of the page that you want to edit.\n",
      "- Add special piece types and piece page types\n",
      "```\n",
      "----------------------------------------------------------------------------------------------------\n",
      "Document 8:\n",
      "\n",
      "```\n",
      "In our project, we are first going to create our home page by modifying the Essentials starter kit `home-page` module.\n",
      "```\n",
      "```\n",
      "As a reminder, if you have the CLI tool installed, navigate in your terminal to the directory where you want to create your new project. Then issue the command:\n",
      "\n",
      "`apos create onboarding-project --starter=essentials`\n",
      "```\n",
      "----------------------------------------------------------------------------------------------------\n",
      "Document 9:\n",
      "\n",
      "``` javascript\n",
      "const { fullConfig } = require('../../lib/area');\n",
      "\n",
      "module.exports = {\n",
      "  extend: '@apostrophecms/page-type',\n",
      "  options: {\n",
      "    label: 'Default Page'\n",
      "  },\n",
      "  fields: {\n",
      "    add: {\n",
      "      main: {\n",
      "        type: 'area',\n",
      "        options: {\n",
      "          widgets: fullConfig\n",
      "        }\n",
      "      }\n",
      "    },\n",
      "    group: {\n",
      "      basics: {\n",
      "        label: 'Basics',\n",
      "        fields: [ 'main' ]\n",
      "      }\n",
      "    }\n",
      "  }\n",
      "};\n",
      "```\n",
      "  <template v-slot:caption>\n",
      "    modules/default-page/index.js\n",
      "  </template>\n",
      "----------------------------------------------------------------------------------------------------\n",
      "Document 10:\n",
      "\n",
      "```bash\n",
      "apos add piece article --page\n",
      "```\n",
      "\n",
      "| Template file name | What is it? |\n",
      "| ------------------ | ----------- |\n",
      "| `index.html` | Template for listing pieces (the **\"index page**) |\n",
      "| `show.html` | Template to display an individual piece (a **\"show page\"**) |\n",
      "----------------------------------------------------------------------------------------------------\n",
      "Document 11:\n",
      "\n",
      "When you want to create a new content type, you can use Apostrophe's object-oriented features to extend our `@apostrophecms/piece-type` module to create a new \"piece type\" module with all the functionality of the base module but still independently customizable. This is perfect for content types like blog posts or products. Creation of a new module immediately gives you a user interface for managing content, a database layer to store and access said content, and the option of also extending our `@apostrophecms/piece-page-type` module to present the content to your site's audience. All of these features automatically draw on the same schema, avoiding code repetition.\n",
      "----------------------------------------------------------------------------------------------------\n",
      "Document 12:\n",
      "\n",
      "```\n",
      "We also examined multiple ways to display our new pieces. First, we created a `piece-page-type` with HTML markup to display individual pieces using the `show.html` template and display multiple pieces using the `index.html` template. We utilized the Apostrophe `pager` module to look at how to limit the number of pieces displayed at once and create a breadcrumb trail for the display of the rest on our index page. We also looked at how we can have multiple index pages in our project, each with different pieces associated by extending the `filterByIndexPage()` and `chooseParentPage()` methods. This introduced the module configuration function, `extendMethods()`. Finally, we looked at how you can add choices to a select field dynamically in order to keep the category choices the content editor can make up-to-date.\n",
      "```\n"
     ]
    }
   ],
   "source": [
    "from langchain.retrievers import ContextualCompressionRetriever\n",
    "from langchain.retrievers.document_compressors import LLMChainExtractor\n",
    "\n",
    "def pretty_print_docs(docs):\n",
    "    print(f\"\\n{'-' * 100}\\n\".join([f\"Document {i+1}:\\n\\n\" + d.page_content for i, d in enumerate(docs)]))\n",
    "\n",
    "# Wrap our vectorstore\n",
    "compressor = LLMChainExtractor.from_llm(model)\n",
    "\n",
    "compression_retriever = ContextualCompressionRetriever(\n",
    "  base_compressor=compressor,\n",
    "  base_retriever=retriever\n",
    ")\n",
    "\n",
    "user_question = input(\"What is your question? \")\n",
    "chat_history = []\n",
    "\n",
    "# Apply the custom template to the question\n",
    "formatted_question = prompt_template.format(user_input=user_question)\n",
    "\n",
    "result = compression_retriever.get_relevant_documents(formatted_question)\n",
    "\n",
    "#result = qa({\"question\": formatted_question, \"chat_history\": chat_history})\n",
    "#chat_history.append((user_question, result[\"answer\"]))\n",
    "print(f\"## -> **Question**: {user_question} \\n\")\n",
    "#print(f\"### **Answer**: {result['answer']} \\n\")\n",
    "pretty_print_docs(result)"
   ]
  }
 ],
 "metadata": {
  "kernelspec": {
   "display_name": "Python 3",
   "language": "python",
   "name": "python3"
  },
  "language_info": {
   "codemirror_mode": {
    "name": "ipython",
    "version": 3
   },
   "file_extension": ".py",
   "mimetype": "text/x-python",
   "name": "python",
   "nbconvert_exporter": "python",
   "pygments_lexer": "ipython3",
   "version": "3.11.5"
  }
 },
 "nbformat": 4,
 "nbformat_minor": 2
}
