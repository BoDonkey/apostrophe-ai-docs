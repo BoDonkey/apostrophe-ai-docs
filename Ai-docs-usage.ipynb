{
 "cells": [
  {
   "cell_type": "markdown",
   "metadata": {},
   "source": [
    "# Working with the Apostrophe VectorBD\n",
    "The vector DB is currently hosted at Deep Lake - this is subject to change"
   ]
  },
  {
   "cell_type": "markdown",
   "metadata": {},
   "source": [
    "Modify dependencies for your system needs - only needed once"
   ]
  },
  {
   "cell_type": "code",
   "execution_count": null,
   "metadata": {},
   "outputs": [],
   "source": [
    "!python3 -m pip install --upgrade langchain 'deeplake[enterprise]' openai tiktoken"
   ]
  },
  {
   "cell_type": "markdown",
   "metadata": {},
   "source": [
    "Enter the API key for OpenAI and define special embeddings for OpenAI"
   ]
  },
  {
   "cell_type": "code",
   "execution_count": 1,
   "metadata": {},
   "outputs": [],
   "source": [
    "import getpass\n",
    "import os\n",
    "\n",
    "os.environ[\"OPENAI_API_KEY\"] = getpass.getpass(\"OpenAI API Key:\")\n",
    "\n",
    "from langchain.embeddings.openai import OpenAIEmbeddings\n",
    "embeddings = OpenAIEmbeddings(disallowed_special=())\n"
   ]
  },
  {
   "cell_type": "markdown",
   "metadata": {},
   "source": [
    "Point the `db` variable at the right database (subject to change)"
   ]
  },
  {
   "cell_type": "code",
   "execution_count": 2,
   "metadata": {},
   "outputs": [
    {
     "name": "stdout",
     "output_type": "stream",
     "text": [
      "Deep Lake Dataset in hub://bodonkey/apostrophe-docs-db-v2 already exists, loading from the storage\n"
     ]
    }
   ],
   "source": [
    "\n",
    "from langchain.vectorstores import DeepLake\n",
    "\n",
    "db = DeepLake(\n",
    "    dataset_path=f\"hub://bodonkey/apostrophe-docs-db-v2\",\n",
    "    read_only=True,\n",
    "    embedding=embeddings,\n",
    ")"
   ]
  },
  {
   "cell_type": "markdown",
   "metadata": {},
   "source": [
    "Modify retrieval patterns"
   ]
  },
  {
   "cell_type": "code",
   "execution_count": 3,
   "metadata": {},
   "outputs": [],
   "source": [
    "retriever = db.as_retriever()\n",
    "retriever.search_kwargs[\"distance_metric\"] = \"cos\"\n",
    "retriever.search_kwargs[\"fetch_k\"] = 100\n",
    "retriever.search_kwargs[\"maximal_marginal_relevance\"] = True\n",
    "retriever.search_kwargs[\"k\"] = 15"
   ]
  },
  {
   "cell_type": "markdown",
   "metadata": {},
   "source": [
    "Specify the langchain model interactions including additional prompt engineering"
   ]
  },
  {
   "cell_type": "code",
   "execution_count": 10,
   "metadata": {},
   "outputs": [],
   "source": [
    "from langchain.chains import ConversationalRetrievalChain\n",
    "from langchain.chat_models import ChatOpenAI\n",
    "from langchain.prompts import ChatPromptTemplate\n",
    "\n",
    "# Define the custom prompt template - here is where prompt engineering might improve answers\n",
    "custom_template = \"\"\"\n",
    "{user_input} Please provide a thorough and accurate response, specifically for ApostropheCMS version 3.x. Include code examples when possible. Add validated citations with `.html` endings from the documentation site. There is no need to comment on this prompt in your answer.\n",
    "\"\"\"\n",
    "\n",
    "# Create the ChatPromptTemplate object\n",
    "prompt_template = ChatPromptTemplate.from_template(custom_template)\n",
    "\n",
    "model = ChatOpenAI(model_name=\"gpt-4-1106-preview\")  # switch to 'gpt-4' or 'gpt-3.5-turbo'\n",
    "\n",
    "qa = ConversationalRetrievalChain.from_llm(model, retriever=retriever)"
   ]
  },
  {
   "cell_type": "markdown",
   "metadata": {},
   "source": [
    "Ask questions"
   ]
  },
  {
   "cell_type": "code",
   "execution_count": 12,
   "metadata": {},
   "outputs": [
    {
     "name": "stdout",
     "output_type": "stream",
     "text": [
      "## -> **Question**: How would I add a new page type to my project? \n",
      "\n",
      "### **Answer**: To add a new page type to your ApostropheCMS version 3.x project, you will need to follow several key steps. Here's a step-by-step guide, including code examples:\n",
      "\n",
      "1. **Create a New Module for the Page Type:**\n",
      "   You need to create a module that extends `@apostrophecms/page-type`. Create a folder for your new page type in the `modules` directory, typically with a `-page` suffix. Inside that folder, create an `index.js` file and a `views` folder with a `page.html` file.\n",
      "   \n",
      "   ```js\n",
      "   // modules/my-custom-page/index.js\n",
      "   module.exports = {\n",
      "     extend: '@apostrophecms/page-type',\n",
      "     // Add more configurations here\n",
      "   };\n",
      "   ```\n",
      "\n",
      "2. **Define the Page Type Schema:**\n",
      "   Within the `index.js` file, define the fields you want to include in your page type using a schema.\n",
      "   \n",
      "   ```js\n",
      "   // modules/my-custom-page/index.js\n",
      "   module.exports = {\n",
      "     extend: '@apostrophecms/page-type',\n",
      "     options: {\n",
      "       label: 'My Custom Page'\n",
      "     },\n",
      "     fields: {\n",
      "       add: {\n",
      "         title: {\n",
      "           type: 'string',\n",
      "           label: 'Title'\n",
      "         },\n",
      "         body: {\n",
      "           type: 'area',\n",
      "           options: {\n",
      "             widgets: {\n",
      "               '@apostrophecms/rich-text': {}\n",
      "             }\n",
      "           }\n",
      "         }\n",
      "         // Add more fields as needed\n",
      "       }\n",
      "     }\n",
      "   };\n",
      "   ```\n",
      "\n",
      "3. **Create the Template:**\n",
      "   In the `views` folder of your module, create a `page.html` file. This is where you'll add the HTML structure for your page type and use the schema fields you have defined.\n",
      "   \n",
      "   ```html\n",
      "   <!-- modules/my-custom-page/views/page.html -->\n",
      "   {% extends \"layout.html\" %}\n",
      "   {% block main %}\n",
      "     <h1>{{ data.page.title }}</h1>\n",
      "     {{ apos.area(data.page, 'body') }}\n",
      "     <!-- Add more areas or content as needed -->\n",
      "   {% endblock %}\n",
      "   ```\n",
      "\n",
      "4. **Register the Page Type:**\n",
      "   After creating the module, you need to register it in `app.js` so Apostrophe knows to use it.\n",
      "   \n",
      "   ```js\n",
      "   // app.js\n",
      "   require('apostrophe')({\n",
      "     shortName: 'my-website',\n",
      "     modules: {\n",
      "       'my-custom-page': {}\n",
      "       // Other modules...\n",
      "     }\n",
      "   });\n",
      "   ```\n",
      "\n",
      "5. **Add the New Page Type to the Page Module:**\n",
      "   Finally, register your new page type in the `@apostrophecms/page` module, so it appears as an option in the UI.\n",
      "   \n",
      "   ```js\n",
      "   // modules/@apostrophecms/page/index.js\n",
      "   module.exports = {\n",
      "     options: {\n",
      "       types: [\n",
      "         {\n",
      "           name: 'my-custom-page',\n",
      "           label: 'My Custom Page'\n",
      "         },\n",
      "         // Other page types...\n",
      "       ]\n",
      "     }\n",
      "   };\n",
      "   ```\n",
      "\n",
      "After following these steps, restart your Apostrophe server. You should now be able to add a new page with your custom page type through the Apostrophe admin UI.\n",
      "\n",
      "For more detailed information, you can refer to the ApostropheCMS documentation:\n",
      "\n",
      "- [Creating a page type](https://v3.docs.apostrophecms.org/reference/api/module/@apostrophecms/page-type.html)\n",
      "- [Page templates and areas](https://v3.docs.apostrophecms.org/guide/pages.html#page-templates)\n",
      "- [Registering custom modules](https://v3.docs.apostrophecms.org/guide/modules.html#setting-up-a-module)\n",
      "\n",
      "Please ensure you're following the most updated practices as outlined in the ApostropheCMS documentation, as specifics may evolve with new versions. \n",
      "\n"
     ]
    }
   ],
   "source": [
    "user_question = input(\"What is your question? \")\n",
    "chat_history = []\n",
    "\n",
    "# Apply the custom template to the question\n",
    "formatted_question = prompt_template.format(user_input=user_question)\n",
    "\n",
    "result = qa({\"question\": formatted_question, \"chat_history\": chat_history})\n",
    "chat_history.append((user_question, result[\"answer\"]))\n",
    "print(f\"## -> **Question**: {user_question} \\n\")\n",
    "print(f\"### **Answer**: {result['answer']} \\n\")"
   ]
  }
 ],
 "metadata": {
  "kernelspec": {
   "display_name": "Python 3",
   "language": "python",
   "name": "python3"
  },
  "language_info": {
   "codemirror_mode": {
    "name": "ipython",
    "version": 3
   },
   "file_extension": ".py",
   "mimetype": "text/x-python",
   "name": "python",
   "nbconvert_exporter": "python",
   "pygments_lexer": "ipython3",
   "version": "3.11.5"
  }
 },
 "nbformat": 4,
 "nbformat_minor": 2
}
