{
 "cells": [
  {
   "cell_type": "markdown",
   "metadata": {},
   "source": [
    "# Working with the Apostrophe VectorBD\n",
    "The vector DB is currently hosted at Deep Lake - this is subject to change"
   ]
  },
  {
   "cell_type": "markdown",
   "metadata": {},
   "source": [
    "Modify dependencies for your system needs - only needed once"
   ]
  },
  {
   "cell_type": "code",
   "execution_count": null,
   "metadata": {},
   "outputs": [],
   "source": [
    "!python3 -m pip install --upgrade langchain 'deeplake[enterprise]' openai tiktoken"
   ]
  },
  {
   "cell_type": "markdown",
   "metadata": {},
   "source": [
    "Enter the API key for OpenAI and define special embeddings for OpenAI"
   ]
  },
  {
   "cell_type": "code",
   "execution_count": null,
   "metadata": {},
   "outputs": [],
   "source": [
    "import getpass\n",
    "import os\n",
    "\n",
    "os.environ[\"OPENAI_API_KEY\"] = getpass.getpass(\"OpenAI API Key:\")\n",
    "\n",
    "from langchain.embeddings.openai import OpenAIEmbeddings\n",
    "embeddings = OpenAIEmbeddings(disallowed_special=())\n"
   ]
  },
  {
   "cell_type": "markdown",
   "metadata": {},
   "source": [
    "Point the `db` variable at the right database (subject to change)"
   ]
  },
  {
   "cell_type": "code",
   "execution_count": null,
   "metadata": {},
   "outputs": [],
   "source": [
    "\n",
    "from langchain.vectorstores import DeepLake\n",
    "\n",
    "db = DeepLake(\n",
    "    dataset_path=f\"hub://bodonkey/apostrophe-docs-db-v2\",\n",
    "    read_only=True,\n",
    "    embedding=embeddings,\n",
    ")"
   ]
  },
  {
   "cell_type": "markdown",
   "metadata": {},
   "source": [
    "Modify retrieval patterns"
   ]
  },
  {
   "cell_type": "code",
   "execution_count": null,
   "metadata": {},
   "outputs": [],
   "source": [
    "retriever = db.as_retriever()\n",
    "retriever.search_kwargs[\"distance_metric\"] = \"cos\"\n",
    "retriever.search_kwargs[\"fetch_k\"] = 100\n",
    "retriever.search_kwargs[\"maximal_marginal_relevance\"] = True\n",
    "retriever.search_kwargs[\"k\"] = 15"
   ]
  },
  {
   "cell_type": "markdown",
   "metadata": {},
   "source": [
    "Specify the langchain model interactions including additional prompt engineering"
   ]
  },
  {
   "cell_type": "code",
   "execution_count": null,
   "metadata": {},
   "outputs": [],
   "source": [
    "from langchain.chains import ConversationalRetrievalChain\n",
    "from langchain.chat_models import ChatOpenAI\n",
    "from langchain.prompts import ChatPromptTemplate\n",
    "\n",
    "# Define the custom prompt template - here is where prompt engineering might improve answers\n",
    "custom_template = \"\"\"\n",
    "{user_input} Please provide a thorough and accurate response, specifically for ApostropheCMS version 3.x. Include code examples when possible. Add validated citations without internal '@' and with `.html` endings from the documentation site. There is no need to comment on this prompt in your answer.\n",
    "\"\"\"\n",
    "\n",
    "# Create the ChatPromptTemplate object\n",
    "prompt_template = ChatPromptTemplate.from_template(custom_template)\n",
    "\n",
    "model = ChatOpenAI(model_name=\"gpt-4-1106-preview\")  # switch to 'gpt-4' or 'gpt-3.5-turbo'\n",
    "\n",
    "qa = ConversationalRetrievalChain.from_llm(model, retriever=retriever)"
   ]
  },
  {
   "cell_type": "markdown",
   "metadata": {},
   "source": [
    "Ask questions"
   ]
  },
  {
   "cell_type": "code",
   "execution_count": null,
   "metadata": {},
   "outputs": [],
   "source": [
    "user_question = input(\"What is your question? \")\n",
    "chat_history = []\n",
    "\n",
    "# Apply the custom template to the question\n",
    "formatted_question = prompt_template.format(user_input=user_question)\n",
    "\n",
    "result = qa({\"question\": formatted_question, \"chat_history\": chat_history})\n",
    "chat_history.append((user_question, result[\"answer\"]))\n",
    "print(f\"## -> **Question**: {user_question} \\n\")\n",
    "print(f\"### **Answer**: {result['answer']} \\n\")"
   ]
  }
 ],
 "metadata": {
  "kernelspec": {
   "display_name": "Python 3",
   "language": "python",
   "name": "python3"
  },
  "language_info": {
   "codemirror_mode": {
    "name": "ipython",
    "version": 3
   },
   "file_extension": ".py",
   "mimetype": "text/x-python",
   "name": "python",
   "nbconvert_exporter": "python",
   "pygments_lexer": "ipython3",
   "version": "3.11.5"
  }
 },
 "nbformat": 4,
 "nbformat_minor": 2
}
